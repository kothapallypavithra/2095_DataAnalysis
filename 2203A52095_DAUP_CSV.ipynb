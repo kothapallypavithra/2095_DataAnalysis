{
  "cells": [
    {
      "cell_type": "markdown",
      "metadata": {
        "id": "view-in-github",
        "colab_type": "text"
      },
      "source": [
        "<a href=\"https://colab.research.google.com/github/kothapallypavithra/2095_DataAnalysis/blob/main/2203A52095_DAUP_CSV.ipynb\" target=\"_parent\"><img src=\"https://colab.research.google.com/assets/colab-badge.svg\" alt=\"Open In Colab\"/></a>"
      ]
    },
    {
      "cell_type": "markdown",
      "metadata": {
        "id": "KSdTskLrb1gd"
      },
      "source": [
        "anger, fear, joy, love, sadness, and surprise"
      ]
    },
    {
      "cell_type": "code",
      "execution_count": null,
      "metadata": {
        "colab": {
          "base_uri": "https://localhost:8080/"
        },
        "id": "sF5Wr2eli7RW",
        "outputId": "188a1515-37ca-4ee9-dc5b-f0e5b4fbe08d"
      },
      "outputs": [
        {
          "output_type": "stream",
          "name": "stdout",
          "text": [
            "Requirement already satisfied: jaxlib in /usr/local/lib/python3.11/dist-packages (0.5.1)\n",
            "Collecting jaxlib\n",
            "  Downloading jaxlib-0.5.3-cp311-cp311-manylinux2014_x86_64.whl.metadata (1.2 kB)\n",
            "Requirement already satisfied: jax in /usr/local/lib/python3.11/dist-packages (0.5.2)\n",
            "Collecting jax\n",
            "  Downloading jax-0.5.3-py3-none-any.whl.metadata (22 kB)\n",
            "Requirement already satisfied: scipy>=1.11.1 in /usr/local/lib/python3.11/dist-packages (from jaxlib) (1.14.1)\n",
            "Requirement already satisfied: numpy>=1.25 in /usr/local/lib/python3.11/dist-packages (from jaxlib) (2.0.2)\n",
            "Requirement already satisfied: ml_dtypes>=0.2.0 in /usr/local/lib/python3.11/dist-packages (from jaxlib) (0.4.1)\n",
            "Requirement already satisfied: opt_einsum in /usr/local/lib/python3.11/dist-packages (from jax) (3.4.0)\n",
            "Downloading jaxlib-0.5.3-cp311-cp311-manylinux2014_x86_64.whl (105.1 MB)\n",
            "\u001b[2K   \u001b[90m━━━━━━━━━━━━━━━━━━━━━━━━━━━━━━━━━━━━━━━━\u001b[0m \u001b[32m105.1/105.1 MB\u001b[0m \u001b[31m7.9 MB/s\u001b[0m eta \u001b[36m0:00:00\u001b[0m\n",
            "\u001b[?25hDownloading jax-0.5.3-py3-none-any.whl (2.4 MB)\n",
            "\u001b[2K   \u001b[90m━━━━━━━━━━━━━━━━━━━━━━━━━━━━━━━━━━━━━━━━\u001b[0m \u001b[32m2.4/2.4 MB\u001b[0m \u001b[31m68.4 MB/s\u001b[0m eta \u001b[36m0:00:00\u001b[0m\n",
            "\u001b[?25hInstalling collected packages: jaxlib, jax\n",
            "  Attempting uninstall: jaxlib\n",
            "    Found existing installation: jaxlib 0.5.1\n",
            "    Uninstalling jaxlib-0.5.1:\n",
            "      Successfully uninstalled jaxlib-0.5.1\n",
            "  Attempting uninstall: jax\n",
            "    Found existing installation: jax 0.5.2\n",
            "    Uninstalling jax-0.5.2:\n",
            "      Successfully uninstalled jax-0.5.2\n",
            "Successfully installed jax-0.5.3 jaxlib-0.5.3\n",
            "Requirement already satisfied: numpy in /usr/local/lib/python3.11/dist-packages (2.0.2)\n",
            "Collecting numpy\n",
            "  Downloading numpy-2.2.4-cp311-cp311-manylinux_2_17_x86_64.manylinux2014_x86_64.whl.metadata (62 kB)\n",
            "\u001b[2K     \u001b[90m━━━━━━━━━━━━━━━━━━━━━━━━━━━━━━━━━━━━━━━━\u001b[0m \u001b[32m62.0/62.0 kB\u001b[0m \u001b[31m4.4 MB/s\u001b[0m eta \u001b[36m0:00:00\u001b[0m\n",
            "\u001b[?25hDownloading numpy-2.2.4-cp311-cp311-manylinux_2_17_x86_64.manylinux2014_x86_64.whl (16.4 MB)\n",
            "\u001b[2K   \u001b[90m━━━━━━━━━━━━━━━━━━━━━━━━━━━━━━━━━━━━━━━━\u001b[0m \u001b[32m16.4/16.4 MB\u001b[0m \u001b[31m62.3 MB/s\u001b[0m eta \u001b[36m0:00:00\u001b[0m\n",
            "\u001b[?25hInstalling collected packages: numpy\n",
            "  Attempting uninstall: numpy\n",
            "    Found existing installation: numpy 2.0.2\n",
            "    Uninstalling numpy-2.0.2:\n",
            "      Successfully uninstalled numpy-2.0.2\n",
            "\u001b[31mERROR: pip's dependency resolver does not currently take into account all the packages that are installed. This behaviour is the source of the following dependency conflicts.\n",
            "tensorflow 2.18.0 requires numpy<2.1.0,>=1.26.0, but you have numpy 2.2.4 which is incompatible.\n",
            "numba 0.60.0 requires numpy<2.1,>=1.22, but you have numpy 2.2.4 which is incompatible.\u001b[0m\u001b[31m\n",
            "\u001b[0mSuccessfully installed numpy-2.2.4\n",
            "Requirement already satisfied: tensorflow in /usr/local/lib/python3.11/dist-packages (2.18.0)\n",
            "Collecting tensorflow\n",
            "  Downloading tensorflow-2.19.0-cp311-cp311-manylinux_2_17_x86_64.manylinux2014_x86_64.whl.metadata (4.1 kB)\n",
            "Requirement already satisfied: absl-py>=1.0.0 in /usr/local/lib/python3.11/dist-packages (from tensorflow) (1.4.0)\n",
            "Requirement already satisfied: astunparse>=1.6.0 in /usr/local/lib/python3.11/dist-packages (from tensorflow) (1.6.3)\n",
            "Requirement already satisfied: flatbuffers>=24.3.25 in /usr/local/lib/python3.11/dist-packages (from tensorflow) (25.2.10)\n",
            "Requirement already satisfied: gast!=0.5.0,!=0.5.1,!=0.5.2,>=0.2.1 in /usr/local/lib/python3.11/dist-packages (from tensorflow) (0.6.0)\n",
            "Requirement already satisfied: google-pasta>=0.1.1 in /usr/local/lib/python3.11/dist-packages (from tensorflow) (0.2.0)\n",
            "Requirement already satisfied: libclang>=13.0.0 in /usr/local/lib/python3.11/dist-packages (from tensorflow) (18.1.1)\n",
            "Requirement already satisfied: opt-einsum>=2.3.2 in /usr/local/lib/python3.11/dist-packages (from tensorflow) (3.4.0)\n",
            "Requirement already satisfied: packaging in /usr/local/lib/python3.11/dist-packages (from tensorflow) (24.2)\n",
            "Requirement already satisfied: protobuf!=4.21.0,!=4.21.1,!=4.21.2,!=4.21.3,!=4.21.4,!=4.21.5,<6.0.0dev,>=3.20.3 in /usr/local/lib/python3.11/dist-packages (from tensorflow) (5.29.4)\n",
            "Requirement already satisfied: requests<3,>=2.21.0 in /usr/local/lib/python3.11/dist-packages (from tensorflow) (2.32.3)\n",
            "Requirement already satisfied: setuptools in /usr/local/lib/python3.11/dist-packages (from tensorflow) (75.2.0)\n",
            "Requirement already satisfied: six>=1.12.0 in /usr/local/lib/python3.11/dist-packages (from tensorflow) (1.17.0)\n",
            "Requirement already satisfied: termcolor>=1.1.0 in /usr/local/lib/python3.11/dist-packages (from tensorflow) (3.0.1)\n",
            "Requirement already satisfied: typing-extensions>=3.6.6 in /usr/local/lib/python3.11/dist-packages (from tensorflow) (4.13.1)\n",
            "Requirement already satisfied: wrapt>=1.11.0 in /usr/local/lib/python3.11/dist-packages (from tensorflow) (1.17.2)\n",
            "Requirement already satisfied: grpcio<2.0,>=1.24.3 in /usr/local/lib/python3.11/dist-packages (from tensorflow) (1.71.0)\n",
            "Collecting tensorboard~=2.19.0 (from tensorflow)\n",
            "  Downloading tensorboard-2.19.0-py3-none-any.whl.metadata (1.8 kB)\n",
            "Requirement already satisfied: keras>=3.5.0 in /usr/local/lib/python3.11/dist-packages (from tensorflow) (3.8.0)\n",
            "Collecting numpy<2.2.0,>=1.26.0 (from tensorflow)\n",
            "  Downloading numpy-2.1.3-cp311-cp311-manylinux_2_17_x86_64.manylinux2014_x86_64.whl.metadata (62 kB)\n",
            "\u001b[2K     \u001b[90m━━━━━━━━━━━━━━━━━━━━━━━━━━━━━━━━━━━━━━━━\u001b[0m \u001b[32m62.0/62.0 kB\u001b[0m \u001b[31m4.2 MB/s\u001b[0m eta \u001b[36m0:00:00\u001b[0m\n",
            "\u001b[?25hRequirement already satisfied: h5py>=3.11.0 in /usr/local/lib/python3.11/dist-packages (from tensorflow) (3.13.0)\n",
            "Collecting ml-dtypes<1.0.0,>=0.5.1 (from tensorflow)\n",
            "  Downloading ml_dtypes-0.5.1-cp311-cp311-manylinux_2_17_x86_64.manylinux2014_x86_64.whl.metadata (21 kB)\n",
            "Requirement already satisfied: tensorflow-io-gcs-filesystem>=0.23.1 in /usr/local/lib/python3.11/dist-packages (from tensorflow) (0.37.1)\n",
            "Requirement already satisfied: wheel<1.0,>=0.23.0 in /usr/local/lib/python3.11/dist-packages (from astunparse>=1.6.0->tensorflow) (0.45.1)\n",
            "Requirement already satisfied: rich in /usr/local/lib/python3.11/dist-packages (from keras>=3.5.0->tensorflow) (13.9.4)\n",
            "Requirement already satisfied: namex in /usr/local/lib/python3.11/dist-packages (from keras>=3.5.0->tensorflow) (0.0.8)\n",
            "Requirement already satisfied: optree in /usr/local/lib/python3.11/dist-packages (from keras>=3.5.0->tensorflow) (0.14.1)\n",
            "Requirement already satisfied: charset-normalizer<4,>=2 in /usr/local/lib/python3.11/dist-packages (from requests<3,>=2.21.0->tensorflow) (3.4.1)\n",
            "Requirement already satisfied: idna<4,>=2.5 in /usr/local/lib/python3.11/dist-packages (from requests<3,>=2.21.0->tensorflow) (3.10)\n",
            "Requirement already satisfied: urllib3<3,>=1.21.1 in /usr/local/lib/python3.11/dist-packages (from requests<3,>=2.21.0->tensorflow) (2.3.0)\n",
            "Requirement already satisfied: certifi>=2017.4.17 in /usr/local/lib/python3.11/dist-packages (from requests<3,>=2.21.0->tensorflow) (2025.1.31)\n",
            "Requirement already satisfied: markdown>=2.6.8 in /usr/local/lib/python3.11/dist-packages (from tensorboard~=2.19.0->tensorflow) (3.7)\n",
            "Requirement already satisfied: tensorboard-data-server<0.8.0,>=0.7.0 in /usr/local/lib/python3.11/dist-packages (from tensorboard~=2.19.0->tensorflow) (0.7.2)\n",
            "Requirement already satisfied: werkzeug>=1.0.1 in /usr/local/lib/python3.11/dist-packages (from tensorboard~=2.19.0->tensorflow) (3.1.3)\n",
            "Requirement already satisfied: MarkupSafe>=2.1.1 in /usr/local/lib/python3.11/dist-packages (from werkzeug>=1.0.1->tensorboard~=2.19.0->tensorflow) (3.0.2)\n",
            "Requirement already satisfied: markdown-it-py>=2.2.0 in /usr/local/lib/python3.11/dist-packages (from rich->keras>=3.5.0->tensorflow) (3.0.0)\n",
            "Requirement already satisfied: pygments<3.0.0,>=2.13.0 in /usr/local/lib/python3.11/dist-packages (from rich->keras>=3.5.0->tensorflow) (2.18.0)\n",
            "Requirement already satisfied: mdurl~=0.1 in /usr/local/lib/python3.11/dist-packages (from markdown-it-py>=2.2.0->rich->keras>=3.5.0->tensorflow) (0.1.2)\n",
            "Downloading tensorflow-2.19.0-cp311-cp311-manylinux_2_17_x86_64.manylinux2014_x86_64.whl (644.9 MB)\n",
            "\u001b[2K   \u001b[90m━━━━━━━━━━━━━━━━━━━━━━━━━━━━━━━━━━━━━━━━\u001b[0m \u001b[32m644.9/644.9 MB\u001b[0m \u001b[31m2.1 MB/s\u001b[0m eta \u001b[36m0:00:00\u001b[0m\n",
            "\u001b[?25hDownloading ml_dtypes-0.5.1-cp311-cp311-manylinux_2_17_x86_64.manylinux2014_x86_64.whl (4.7 MB)\n",
            "\u001b[2K   \u001b[90m━━━━━━━━━━━━━━━━━━━━━━━━━━━━━━━━━━━━━━━━\u001b[0m \u001b[32m4.7/4.7 MB\u001b[0m \u001b[31m40.0 MB/s\u001b[0m eta \u001b[36m0:00:00\u001b[0m\n",
            "\u001b[?25hDownloading numpy-2.1.3-cp311-cp311-manylinux_2_17_x86_64.manylinux2014_x86_64.whl (16.3 MB)\n",
            "\u001b[2K   \u001b[90m━━━━━━━━━━━━━━━━━━━━━━━━━━━━━━━━━━━━━━━━\u001b[0m \u001b[32m16.3/16.3 MB\u001b[0m \u001b[31m48.6 MB/s\u001b[0m eta \u001b[36m0:00:00\u001b[0m\n",
            "\u001b[?25hDownloading tensorboard-2.19.0-py3-none-any.whl (5.5 MB)\n",
            "\u001b[2K   \u001b[90m━━━━━━━━━━━━━━━━━━━━━━━━━━━━━━━━━━━━━━━━\u001b[0m \u001b[32m5.5/5.5 MB\u001b[0m \u001b[31m62.8 MB/s\u001b[0m eta \u001b[36m0:00:00\u001b[0m\n",
            "\u001b[?25hInstalling collected packages: numpy, tensorboard, ml-dtypes, tensorflow\n",
            "  Attempting uninstall: numpy\n",
            "    Found existing installation: numpy 2.2.4\n",
            "    Uninstalling numpy-2.2.4:\n",
            "      Successfully uninstalled numpy-2.2.4\n",
            "  Attempting uninstall: tensorboard\n",
            "    Found existing installation: tensorboard 2.18.0\n",
            "    Uninstalling tensorboard-2.18.0:\n",
            "      Successfully uninstalled tensorboard-2.18.0\n",
            "  Attempting uninstall: ml-dtypes\n",
            "    Found existing installation: ml-dtypes 0.4.1\n",
            "    Uninstalling ml-dtypes-0.4.1:\n",
            "      Successfully uninstalled ml-dtypes-0.4.1\n",
            "  Attempting uninstall: tensorflow\n",
            "    Found existing installation: tensorflow 2.18.0\n",
            "    Uninstalling tensorflow-2.18.0:\n",
            "      Successfully uninstalled tensorflow-2.18.0\n",
            "\u001b[31mERROR: pip's dependency resolver does not currently take into account all the packages that are installed. This behaviour is the source of the following dependency conflicts.\n",
            "tensorflow-text 2.18.1 requires tensorflow<2.19,>=2.18.0, but you have tensorflow 2.19.0 which is incompatible.\n",
            "tf-keras 2.18.0 requires tensorflow<2.19,>=2.18, but you have tensorflow 2.19.0 which is incompatible.\n",
            "numba 0.60.0 requires numpy<2.1,>=1.22, but you have numpy 2.1.3 which is incompatible.\n",
            "tensorflow-decision-forests 1.11.0 requires tensorflow==2.18.0, but you have tensorflow 2.19.0 which is incompatible.\u001b[0m\u001b[31m\n",
            "\u001b[0mSuccessfully installed ml-dtypes-0.5.1 numpy-2.1.3 tensorboard-2.19.0 tensorflow-2.19.0\n",
            "Collecting gensim\n",
            "  Downloading gensim-4.3.3-cp311-cp311-manylinux_2_17_x86_64.manylinux2014_x86_64.whl.metadata (8.1 kB)\n",
            "Collecting numpy<2.0,>=1.18.5 (from gensim)\n",
            "  Downloading numpy-1.26.4-cp311-cp311-manylinux_2_17_x86_64.manylinux2014_x86_64.whl.metadata (61 kB)\n",
            "\u001b[2K     \u001b[90m━━━━━━━━━━━━━━━━━━━━━━━━━━━━━━━━━━━━━━━━\u001b[0m \u001b[32m61.0/61.0 kB\u001b[0m \u001b[31m3.6 MB/s\u001b[0m eta \u001b[36m0:00:00\u001b[0m\n",
            "\u001b[?25hCollecting scipy<1.14.0,>=1.7.0 (from gensim)\n",
            "  Downloading scipy-1.13.1-cp311-cp311-manylinux_2_17_x86_64.manylinux2014_x86_64.whl.metadata (60 kB)\n",
            "\u001b[2K     \u001b[90m━━━━━━━━━━━━━━━━━━━━━━━━━━━━━━━━━━━━━━━━\u001b[0m \u001b[32m60.6/60.6 kB\u001b[0m \u001b[31m5.1 MB/s\u001b[0m eta \u001b[36m0:00:00\u001b[0m\n",
            "\u001b[?25hRequirement already satisfied: smart-open>=1.8.1 in /usr/local/lib/python3.11/dist-packages (from gensim) (7.1.0)\n",
            "Requirement already satisfied: wrapt in /usr/local/lib/python3.11/dist-packages (from smart-open>=1.8.1->gensim) (1.17.2)\n",
            "Downloading gensim-4.3.3-cp311-cp311-manylinux_2_17_x86_64.manylinux2014_x86_64.whl (26.7 MB)\n",
            "\u001b[2K   \u001b[90m━━━━━━━━━━━━━━━━━━━━━━━━━━━━━━━━━━━━━━━━\u001b[0m \u001b[32m26.7/26.7 MB\u001b[0m \u001b[31m19.7 MB/s\u001b[0m eta \u001b[36m0:00:00\u001b[0m\n",
            "\u001b[?25hDownloading numpy-1.26.4-cp311-cp311-manylinux_2_17_x86_64.manylinux2014_x86_64.whl (18.3 MB)\n",
            "\u001b[2K   \u001b[90m━━━━━━━━━━━━━━━━━━━━━━━━━━━━━━━━━━━━━━━━\u001b[0m \u001b[32m18.3/18.3 MB\u001b[0m \u001b[31m90.3 MB/s\u001b[0m eta \u001b[36m0:00:00\u001b[0m\n",
            "\u001b[?25hDownloading scipy-1.13.1-cp311-cp311-manylinux_2_17_x86_64.manylinux2014_x86_64.whl (38.6 MB)\n",
            "\u001b[2K   \u001b[90m━━━━━━━━━━━━━━━━━━━━━━━━━━━━━━━━━━━━━━━━\u001b[0m \u001b[32m38.6/38.6 MB\u001b[0m \u001b[31m15.2 MB/s\u001b[0m eta \u001b[36m0:00:00\u001b[0m\n",
            "\u001b[?25hInstalling collected packages: numpy, scipy, gensim\n",
            "  Attempting uninstall: numpy\n",
            "    Found existing installation: numpy 2.1.3\n",
            "    Uninstalling numpy-2.1.3:\n",
            "      Successfully uninstalled numpy-2.1.3\n",
            "  Attempting uninstall: scipy\n",
            "    Found existing installation: scipy 1.14.1\n",
            "    Uninstalling scipy-1.14.1:\n",
            "      Successfully uninstalled scipy-1.14.1\n",
            "\u001b[31mERROR: pip's dependency resolver does not currently take into account all the packages that are installed. This behaviour is the source of the following dependency conflicts.\n",
            "tensorflow-text 2.18.1 requires tensorflow<2.19,>=2.18.0, but you have tensorflow 2.19.0 which is incompatible.\n",
            "tf-keras 2.18.0 requires tensorflow<2.19,>=2.18, but you have tensorflow 2.19.0 which is incompatible.\n",
            "tensorflow-decision-forests 1.11.0 requires tensorflow==2.18.0, but you have tensorflow 2.19.0 which is incompatible.\n",
            "thinc 8.3.6 requires numpy<3.0.0,>=2.0.0, but you have numpy 1.26.4 which is incompatible.\u001b[0m\u001b[31m\n",
            "\u001b[0mSuccessfully installed gensim-4.3.3 numpy-1.26.4 scipy-1.13.1\n"
          ]
        }
      ],
      "source": [
        "!pip install --upgrade jaxlib jax\n",
        "!pip install --upgrade numpy\n",
        "!pip install --upgrade tensorflow\n",
        "!pip install --upgrade gensim"
      ]
    },
    {
      "cell_type": "markdown",
      "metadata": {
        "id": "BdfdXveLbz2J"
      },
      "source": []
    },
    {
      "cell_type": "code",
      "execution_count": null,
      "metadata": {
        "colab": {
          "base_uri": "https://localhost:8080/"
        },
        "id": "-TrFZZnPf4OK",
        "outputId": "974c3e06-ea94-4441-9e33-40af181b68ae"
      },
      "outputs": [
        {
          "output_type": "stream",
          "name": "stdout",
          "text": [
            "Found existing installation: numpy 1.26.4\n",
            "Uninstalling numpy-1.26.4:\n",
            "  Successfully uninstalled numpy-1.26.4\n",
            "Found existing installation: pandas 2.2.2\n",
            "Uninstalling pandas-2.2.2:\n",
            "  Successfully uninstalled pandas-2.2.2\n",
            "Collecting numpy==1.26.4\n",
            "  Downloading numpy-1.26.4-cp311-cp311-manylinux_2_17_x86_64.manylinux2014_x86_64.whl.metadata (61 kB)\n",
            "\u001b[2K     \u001b[90m━━━━━━━━━━━━━━━━━━━━━━━━━━━━━━━━━━━━━━━━\u001b[0m \u001b[32m61.0/61.0 kB\u001b[0m \u001b[31m76.6 MB/s\u001b[0m eta \u001b[36m0:00:00\u001b[0m\n",
            "\u001b[?25hDownloading numpy-1.26.4-cp311-cp311-manylinux_2_17_x86_64.manylinux2014_x86_64.whl (18.3 MB)\n",
            "\u001b[2K   \u001b[90m━━━━━━━━━━━━━━━━━━━━━━━━━━━━━━━━━━━━━━━━\u001b[0m \u001b[32m18.3/18.3 MB\u001b[0m \u001b[31m251.0 MB/s\u001b[0m eta \u001b[36m0:00:00\u001b[0m\n",
            "\u001b[?25hInstalling collected packages: numpy\n",
            "\u001b[31mERROR: pip's dependency resolver does not currently take into account all the packages that are installed. This behaviour is the source of the following dependency conflicts.\n",
            "pymc 5.21.2 requires pandas>=0.24.0, which is not installed.\n",
            "sklearn-pandas 2.2.0 requires pandas>=1.1.4, which is not installed.\n",
            "shap 0.47.1 requires pandas, which is not installed.\n",
            "holoviews 1.20.2 requires pandas>=1.3, which is not installed.\n",
            "fastai 2.7.19 requires pandas, which is not installed.\n",
            "bqplot 0.12.44 requires pandas<3.0.0,>=1.0.0, which is not installed.\n",
            "bigframes 1.42.0 requires pandas>=1.5.3, which is not installed.\n",
            "arviz 0.21.0 requires pandas>=1.5.0, which is not installed.\n",
            "cufflinks 0.17.3 requires pandas>=0.19.2, which is not installed.\n",
            "cmdstanpy 1.2.5 requires pandas, which is not installed.\n",
            "db-dtypes 1.4.2 requires pandas>=0.24.2, which is not installed.\n",
            "geemap 0.35.3 requires pandas, which is not installed.\n",
            "pandas-gbq 0.28.0 requires pandas>=1.1.4, which is not installed.\n",
            "dopamine-rl 4.1.2 requires pandas>=0.24.2, which is not installed.\n",
            "geopandas 1.0.1 requires pandas>=1.4.0, which is not installed.\n",
            "dask-cudf-cu12 25.2.2 requires pandas<2.2.4dev0,>=2.0, which is not installed.\n",
            "tensorflow-decision-forests 1.11.0 requires pandas, which is not installed.\n",
            "xarray 2025.1.2 requires pandas>=2.1, which is not installed.\n",
            "mizani 0.13.2 requires pandas>=2.2.0, which is not installed.\n",
            "statsmodels 0.14.4 requires pandas!=2.1.0,>=1.4, which is not installed.\n",
            "bokeh 3.6.3 requires pandas>=1.2, which is not installed.\n",
            "yfinance 0.2.55 requires pandas>=1.3.0, which is not installed.\n",
            "datascience 0.17.6 requires pandas, which is not installed.\n",
            "seaborn 0.13.2 requires pandas>=1.2, which is not installed.\n",
            "plotnine 0.14.5 requires pandas>=2.2.0, which is not installed.\n",
            "prophet 1.1.6 requires pandas>=1.0.4, which is not installed.\n",
            "mlxtend 0.23.4 requires pandas>=0.24.2, which is not installed.\n",
            "cudf-cu12 25.2.1 requires pandas<2.2.4dev0,>=2.0, which is not installed.\n",
            "dask-cuda 25.2.0 requires pandas>=1.3, which is not installed.\n",
            "tensorflow-text 2.18.1 requires tensorflow<2.19,>=2.18.0, but you have tensorflow 2.19.0 which is incompatible.\n",
            "tf-keras 2.18.0 requires tensorflow<2.19,>=2.18, but you have tensorflow 2.19.0 which is incompatible.\n",
            "tensorflow-decision-forests 1.11.0 requires tensorflow==2.18.0, but you have tensorflow 2.19.0 which is incompatible.\n",
            "thinc 8.3.6 requires numpy<3.0.0,>=2.0.0, but you have numpy 1.26.4 which is incompatible.\u001b[0m\u001b[31m\n",
            "\u001b[0mSuccessfully installed numpy-1.26.4\n",
            "Collecting pandas==2.2.2\n",
            "  Downloading pandas-2.2.2-cp311-cp311-manylinux_2_17_x86_64.manylinux2014_x86_64.whl.metadata (19 kB)\n",
            "Requirement already satisfied: numpy>=1.23.2 in /usr/local/lib/python3.11/dist-packages (from pandas==2.2.2) (1.26.4)\n",
            "Requirement already satisfied: python-dateutil>=2.8.2 in /usr/local/lib/python3.11/dist-packages (from pandas==2.2.2) (2.8.2)\n",
            "Requirement already satisfied: pytz>=2020.1 in /usr/local/lib/python3.11/dist-packages (from pandas==2.2.2) (2025.2)\n",
            "Requirement already satisfied: tzdata>=2022.7 in /usr/local/lib/python3.11/dist-packages (from pandas==2.2.2) (2025.2)\n",
            "Requirement already satisfied: six>=1.5 in /usr/local/lib/python3.11/dist-packages (from python-dateutil>=2.8.2->pandas==2.2.2) (1.17.0)\n",
            "Downloading pandas-2.2.2-cp311-cp311-manylinux_2_17_x86_64.manylinux2014_x86_64.whl (13.0 MB)\n",
            "\u001b[2K   \u001b[90m━━━━━━━━━━━━━━━━━━━━━━━━━━━━━━━━━━━━━━━━\u001b[0m \u001b[32m13.0/13.0 MB\u001b[0m \u001b[31m278.2 MB/s\u001b[0m eta \u001b[36m0:00:00\u001b[0m\n",
            "\u001b[?25hInstalling collected packages: pandas\n",
            "\u001b[31mERROR: pip's dependency resolver does not currently take into account all the packages that are installed. This behaviour is the source of the following dependency conflicts.\n",
            "tensorflow-decision-forests 1.11.0 requires tensorflow==2.18.0, but you have tensorflow 2.19.0 which is incompatible.\u001b[0m\u001b[31m\n",
            "\u001b[0mSuccessfully installed pandas-2.2.2\n"
          ]
        }
      ],
      "source": [
        "# Uninstall NumPy and Pandas\n",
        "!pip uninstall -y numpy pandas\n",
        "\n",
        "# Reinstall NumPy\n",
        "!pip install --no-cache-dir numpy==1.26.4\n",
        "\n",
        "# Reinstall Pandas\n",
        "!pip install --no-cache-dir pandas==2.2.2\n",
        "\n",
        "# Restart Kernel\n",
        "import os\n",
        "os._exit(00)\n"
      ]
    },
    {
      "cell_type": "code",
      "execution_count": null,
      "metadata": {
        "id": "2CpgmLvaptIj"
      },
      "outputs": [],
      "source": [
        "import pandas as pd\n",
        "import numpy as np\n",
        "\n",
        "train_df = pd.read_csv(\"/content/training.csv\")\n",
        "val_df = pd.read_csv(\"/content/validation.csv\")\n",
        "test_df = pd.read_csv(\"/content/test.csv\")\n"
      ]
    },
    {
      "cell_type": "code",
      "execution_count": null,
      "metadata": {
        "colab": {
          "base_uri": "https://localhost:8080/"
        },
        "id": "vzhXyqXKpt7p",
        "outputId": "077706fe-c59d-4efa-fd20-396af786bdd2"
      },
      "outputs": [
        {
          "output_type": "stream",
          "name": "stdout",
          "text": [
            "                                                text  label\n",
            "0                            i didnt feel humiliated      0\n",
            "1  i can go from feeling so hopeless to so damned...      0\n",
            "2   im grabbing a minute to post i feel greedy wrong      3\n",
            "3  i am ever feeling nostalgic about the fireplac...      2\n",
            "4                               i am feeling grouchy      3\n",
            "                                                text  label\n",
            "0  im feeling rather rotten so im not very ambiti...      0\n",
            "1          im updating my blog because i feel shitty      0\n",
            "2  i never make her separate from me because i do...      0\n",
            "3  i left with my bouquet of red and yellow tulip...      1\n",
            "4    i was feeling a little vain when i did this one      0\n",
            "                                                text  label\n",
            "0  im feeling quite sad and sorry for myself but ...      0\n",
            "1  i feel like i am still looking at a blank canv...      0\n",
            "2                     i feel like a faithful servant      2\n",
            "3                  i am just feeling cranky and blue      3\n",
            "4  i can have for a treat or if i am feeling festive      1\n"
          ]
        }
      ],
      "source": [
        "print(train_df.head())\n",
        "print(test_df.head())\n",
        "print(val_df.head())"
      ]
    },
    {
      "cell_type": "code",
      "execution_count": null,
      "metadata": {
        "colab": {
          "base_uri": "https://localhost:8080/"
        },
        "id": "jIYEr-4DqI9n",
        "outputId": "ea651f16-f17f-41b3-8c83-9e0327abdaab"
      },
      "outputs": [
        {
          "output_type": "stream",
          "name": "stdout",
          "text": [
            "label\n",
            "1    5362\n",
            "0    4666\n",
            "3    2159\n",
            "4    1937\n",
            "2    1304\n",
            "5     572\n",
            "Name: count, dtype: int64\n"
          ]
        }
      ],
      "source": [
        "print(train_df[\"label\"].value_counts())\n"
      ]
    },
    {
      "cell_type": "code",
      "execution_count": null,
      "metadata": {
        "colab": {
          "base_uri": "https://localhost:8080/",
          "height": 36
        },
        "id": "TugNn9FDt1qn",
        "outputId": "9fdd6786-9f57-4906-cd0c-4a6c8ed2613b"
      },
      "outputs": [
        {
          "output_type": "execute_result",
          "data": {
            "text/plain": [
              "'!pip install gensim'"
            ],
            "application/vnd.google.colaboratory.intrinsic+json": {
              "type": "string"
            }
          },
          "metadata": {},
          "execution_count": 4
        }
      ],
      "source": [
        "'''!pip install gensim'''"
      ]
    },
    {
      "cell_type": "code",
      "execution_count": null,
      "metadata": {
        "colab": {
          "base_uri": "https://localhost:8080/",
          "height": 157
        },
        "id": "d6THOGIa-YE0",
        "outputId": "f24fc158-8b9d-4d59-ff0c-f7e758f18b27"
      },
      "outputs": [
        {
          "output_type": "execute_result",
          "data": {
            "text/plain": [
              "'import tensorflow as tf\\nimport pandas as pd\\nimport numpy as np\\nfrom transformers import BertTokenizer, TFBertModel\\nfrom tensorflow.keras.layers import LSTM, Dense, Dropout, Bidirectional\\nfrom tensorflow.keras.models import Model\\nfrom tensorflow.keras.optimizers import Adam\\nfrom sklearn.preprocessing import LabelEncoder\\nfrom sklearn.utils.class_weight import compute_class_weight\\n\\n\\n\\n# ✅ Step 2: Encode Sentiment Labels\\nlabel_encoder = LabelEncoder()\\ntrain_df[\"label\"] = label_encoder.fit_transform(train_df[\"label\"])\\nval_df[\"label\"] = label_encoder.transform(val_df[\"label\"])\\ntest_df[\"label\"] = label_encoder.transform(test_df[\"label\"])\\n\\n# ✅ Step 3: Convert Text & Labels into Lists\\nX_train, y_train = train_df[\"text\"].astype(str).tolist(), train_df[\"label\"]\\nX_val, y_val = val_df[\"text\"].astype(str).tolist(), val_df[\"label\"]\\nX_test, y_test = test_df[\"text\"].astype(str).tolist(), test_df[\"label\"]\\n\\n# ✅ Step 4: Compute Class Weights for Balanced Training\\nclass_weights = compute_class_weight(\\n    class_weight=\"balanced\",\\n    classes=np.unique(y_train),\\n    y=y_train\\n)\\nclass_weights = dict(enumerate(class_weights))\\n\\n# ✅ Step 5: Load BERT Tokenizer\\nbert_model_name = \"bert-base-uncased\"\\ntokenizer = BertTokenizer.from_pretrained(bert_model_name)\\n\\n# Function to tokenize text\\ndef encode_texts(texts, max_length=100):\\n    return tokenizer(\\n        list(texts),\\n        max_length=max_length,\\n        padding=\"max_length\",\\n        truncation=True,\\n        return_tensors=\"tf\"\\n    )\\n\\n# Tokenize Data\\ntrain_encodings = encode_texts(X_train)\\nval_encodings = encode_texts(X_val)\\ntest_encodings = encode_texts(X_test)\\n\\n# Convert labels to categorical format\\nnum_classes = len(label_encoder.classes_)\\ny_train_cat = tf.keras.utils.to_categorical(y_train, num_classes)\\ny_val_cat = tf.keras.utils.to_categorical(y_val, num_classes)\\ny_test_cat = tf.keras.utils.to_categorical(y_test, num_classes)\\n\\n# ✅ Step 6: Build BERT + LSTM Model\\nclass BertLSTMClassifier(Model):\\n    def __init__(self, bert_model, num_classes, dropout_rate=0.3, lstm_units=128):\\n        super(BertLSTMClassifier, self).__init__()\\n        self.bert = bert_model\\n        self.lstm = Bidirectional(LSTM(lstm_units, return_sequences=False))\\n        self.dropout = Dropout(dropout_rate)\\n        self.dense = Dense(num_classes, activation=\"softmax\")  # Multi-class classification\\n\\n    def call(self, inputs):\\n        bert_output = self.bert(inputs)[0]  # BERT last hidden state\\n        lstm_output = self.lstm(bert_output)\\n        dropout_output = self.dropout(lstm_output)\\n        return self.dense(dropout_output)\\n\\n# Load Pretrained BERT Model\\nbert = TFBertModel.from_pretrained(bert_model_name)\\n\\n# Initialize Model\\nbert_lstm_classifier = BertLSTMClassifier(bert, num_classes)\\n\\n# ✅ Step 7: Compile Model\\nbert_lstm_classifier.compile(\\n    loss=\"categorical_crossentropy\",\\n    optimizer=Adam(learning_rate=2e-5),\\n    metrics=[\"accuracy\"]\\n)\\n\\n# ✅ Step 8: Train Model with Class Weights\\nhistory = bert_lstm_classifier.fit(\\n    {\"input_ids\": train_encodings[\"input_ids\"], \"attention_mask\": train_encodings[\"attention_mask\"]},\\n    y_train_cat,\\n    validation_data=(\\n        {\"input_ids\": val_encodings[\"input_ids\"], \"attention_mask\": val_encodings[\"attention_mask\"]},\\n        y_val_cat\\n    ),\\n    epochs=5,\\n    batch_size=16,\\n    class_weight=class_weights  # Apply class weights for balance\\n)\\n\\n# ✅ Step 9: Evaluate Model\\nloss, accuracy = bert_lstm_classifier.evaluate(\\n    {\"input_ids\": test_encodings[\"input_ids\"], \"attention_mask\": test_encodings[\"attention_mask\"]},\\n    y_test_cat\\n)\\nprint(f\"🔥 Test Accuracy: {accuracy:.4f}\")\\n\\n# ✅ Step 10: Save Model & Label Encoder\\nbert_lstm_classifier.save(\"bert_lstm_sentiment_model.h5\")\\nimport pickle\\nwith open(\"label_encoder.pkl\", \"wb\") as f:\\n    pickle.dump(label_encoder, f)\\n\\n# ✅ Step 11: Prediction Function\\ndef predict_emotion(text):\\n    tokens = encode_texts([text])\\n    preds = bert_lstm_classifier.predict(\\n        {\"input_ids\": tokens[\"input_ids\"], \"attention_mask\": tokens[\"attention_mask\"]}\\n    )\\n    emotion = label_encoder.inverse_transform([preds.argmax()])[0]\\n    return emotion\\n\\n# Test Prediction\\n\\nsample_text = \"I\\'m feeling really happy today!\"\\npredicted_emotion = predict_emotion(sample_text)\\nprint(f\"Predicted Emotion: {predicted_emotion}\")\\n'"
            ],
            "application/vnd.google.colaboratory.intrinsic+json": {
              "type": "string"
            }
          },
          "metadata": {},
          "execution_count": 5
        }
      ],
      "source": [
        "'''import tensorflow as tf\n",
        "import pandas as pd\n",
        "import numpy as np\n",
        "from transformers import BertTokenizer, TFBertModel\n",
        "from tensorflow.keras.layers import LSTM, Dense, Dropout, Bidirectional\n",
        "from tensorflow.keras.models import Model\n",
        "from tensorflow.keras.optimizers import Adam\n",
        "from sklearn.preprocessing import LabelEncoder\n",
        "from sklearn.utils.class_weight import compute_class_weight\n",
        "\n",
        "\n",
        "\n",
        "# ✅ Step 2: Encode Sentiment Labels\n",
        "label_encoder = LabelEncoder()\n",
        "train_df[\"label\"] = label_encoder.fit_transform(train_df[\"label\"])\n",
        "val_df[\"label\"] = label_encoder.transform(val_df[\"label\"])\n",
        "test_df[\"label\"] = label_encoder.transform(test_df[\"label\"])\n",
        "\n",
        "# ✅ Step 3: Convert Text & Labels into Lists\n",
        "X_train, y_train = train_df[\"text\"].astype(str).tolist(), train_df[\"label\"]\n",
        "X_val, y_val = val_df[\"text\"].astype(str).tolist(), val_df[\"label\"]\n",
        "X_test, y_test = test_df[\"text\"].astype(str).tolist(), test_df[\"label\"]\n",
        "\n",
        "# ✅ Step 4: Compute Class Weights for Balanced Training\n",
        "class_weights = compute_class_weight(\n",
        "    class_weight=\"balanced\",\n",
        "    classes=np.unique(y_train),\n",
        "    y=y_train\n",
        ")\n",
        "class_weights = dict(enumerate(class_weights))\n",
        "\n",
        "# ✅ Step 5: Load BERT Tokenizer\n",
        "bert_model_name = \"bert-base-uncased\"\n",
        "tokenizer = BertTokenizer.from_pretrained(bert_model_name)\n",
        "\n",
        "# Function to tokenize text\n",
        "def encode_texts(texts, max_length=100):\n",
        "    return tokenizer(\n",
        "        list(texts),\n",
        "        max_length=max_length,\n",
        "        padding=\"max_length\",\n",
        "        truncation=True,\n",
        "        return_tensors=\"tf\"\n",
        "    )\n",
        "\n",
        "# Tokenize Data\n",
        "train_encodings = encode_texts(X_train)\n",
        "val_encodings = encode_texts(X_val)\n",
        "test_encodings = encode_texts(X_test)\n",
        "\n",
        "# Convert labels to categorical format\n",
        "num_classes = len(label_encoder.classes_)\n",
        "y_train_cat = tf.keras.utils.to_categorical(y_train, num_classes)\n",
        "y_val_cat = tf.keras.utils.to_categorical(y_val, num_classes)\n",
        "y_test_cat = tf.keras.utils.to_categorical(y_test, num_classes)\n",
        "\n",
        "# ✅ Step 6: Build BERT + LSTM Model\n",
        "class BertLSTMClassifier(Model):\n",
        "    def __init__(self, bert_model, num_classes, dropout_rate=0.3, lstm_units=128):\n",
        "        super(BertLSTMClassifier, self).__init__()\n",
        "        self.bert = bert_model\n",
        "        self.lstm = Bidirectional(LSTM(lstm_units, return_sequences=False))\n",
        "        self.dropout = Dropout(dropout_rate)\n",
        "        self.dense = Dense(num_classes, activation=\"softmax\")  # Multi-class classification\n",
        "\n",
        "    def call(self, inputs):\n",
        "        bert_output = self.bert(inputs)[0]  # BERT last hidden state\n",
        "        lstm_output = self.lstm(bert_output)\n",
        "        dropout_output = self.dropout(lstm_output)\n",
        "        return self.dense(dropout_output)\n",
        "\n",
        "# Load Pretrained BERT Model\n",
        "bert = TFBertModel.from_pretrained(bert_model_name)\n",
        "\n",
        "# Initialize Model\n",
        "bert_lstm_classifier = BertLSTMClassifier(bert, num_classes)\n",
        "\n",
        "# ✅ Step 7: Compile Model\n",
        "bert_lstm_classifier.compile(\n",
        "    loss=\"categorical_crossentropy\",\n",
        "    optimizer=Adam(learning_rate=2e-5),\n",
        "    metrics=[\"accuracy\"]\n",
        ")\n",
        "\n",
        "# ✅ Step 8: Train Model with Class Weights\n",
        "history = bert_lstm_classifier.fit(\n",
        "    {\"input_ids\": train_encodings[\"input_ids\"], \"attention_mask\": train_encodings[\"attention_mask\"]},\n",
        "    y_train_cat,\n",
        "    validation_data=(\n",
        "        {\"input_ids\": val_encodings[\"input_ids\"], \"attention_mask\": val_encodings[\"attention_mask\"]},\n",
        "        y_val_cat\n",
        "    ),\n",
        "    epochs=5,\n",
        "    batch_size=16,\n",
        "    class_weight=class_weights  # Apply class weights for balance\n",
        ")\n",
        "\n",
        "# ✅ Step 9: Evaluate Model\n",
        "loss, accuracy = bert_lstm_classifier.evaluate(\n",
        "    {\"input_ids\": test_encodings[\"input_ids\"], \"attention_mask\": test_encodings[\"attention_mask\"]},\n",
        "    y_test_cat\n",
        ")\n",
        "print(f\"🔥 Test Accuracy: {accuracy:.4f}\")\n",
        "\n",
        "# ✅ Step 10: Save Model & Label Encoder\n",
        "bert_lstm_classifier.save(\"bert_lstm_sentiment_model.h5\")\n",
        "import pickle\n",
        "with open(\"label_encoder.pkl\", \"wb\") as f:\n",
        "    pickle.dump(label_encoder, f)\n",
        "\n",
        "# ✅ Step 11: Prediction Function\n",
        "def predict_emotion(text):\n",
        "    tokens = encode_texts([text])\n",
        "    preds = bert_lstm_classifier.predict(\n",
        "        {\"input_ids\": tokens[\"input_ids\"], \"attention_mask\": tokens[\"attention_mask\"]}\n",
        "    )\n",
        "    emotion = label_encoder.inverse_transform([preds.argmax()])[0]\n",
        "    return emotion\n",
        "\n",
        "# Test Prediction\n",
        "\n",
        "sample_text = \"I'm feeling really happy today!\"\n",
        "predicted_emotion = predict_emotion(sample_text)\n",
        "print(f\"Predicted Emotion: {predicted_emotion}\")\n",
        "'''"
      ]
    },
    {
      "cell_type": "code",
      "execution_count": null,
      "metadata": {
        "colab": {
          "base_uri": "https://localhost:8080/",
          "height": 140
        },
        "id": "zcZ1Rz0apqgf",
        "outputId": "435f08b8-516b-4fbd-a839-0e2bdaaa8d3d"
      },
      "outputs": [
        {
          "output_type": "execute_result",
          "data": {
            "text/plain": [
              "'import pandas as pd\\nimport numpy as np\\nimport tensorflow as tf\\nimport gensim\\nfrom tensorflow.keras.preprocessing.text import Tokenizer\\nfrom tensorflow.keras.preprocessing.sequence import pad_sequences\\nfrom tensorflow.keras.models import Sequential\\nfrom tensorflow.keras.layers import Embedding, LSTM, Dense, Dropout, Bidirectional\\nfrom tensorflow.keras.optimizers import Adam\\nfrom sklearn.utils.class_weight import compute_class_weight\\nfrom sklearn.preprocessing import LabelEncoder\\n\\n\\n# ✅ Step 2: Encode Sentiment Labels\\nlabel_encoder = LabelEncoder()\\ntrain_df[\"label\"] = label_encoder.fit_transform(train_df[\"label\"])\\nval_df[\"label\"] = label_encoder.transform(val_df[\"label\"])\\ntest_df[\"label\"] = label_encoder.transform(test_df[\"label\"])\\n\\n# ✅ Step 3: Prepare Text Data\\nX_train, y_train = train_df[\"text\"].astype(str).tolist(), train_df[\"label\"]\\nX_val, y_val = val_df[\"text\"].astype(str).tolist(), val_df[\"label\"]\\nX_test, y_test = test_df[\"text\"].astype(str).tolist(), test_df[\"label\"]\\n\\n# ✅ Step 4: Tokenize Text\\nmax_vocab_size = 10000  # Maximum words to keep\\nmax_length = 100  # Max sequence length\\n\\ntokenizer = Tokenizer(num_words=max_vocab_size, oov_token=\"<OOV>\")\\ntokenizer.fit_on_texts(X_train)\\n\\n# Convert text to sequences\\nX_train_seq = pad_sequences(tokenizer.texts_to_sequences(X_train), maxlen=max_length, padding=\"post\")\\nX_val_seq = pad_sequences(tokenizer.texts_to_sequences(X_val), maxlen=max_length, padding=\"post\")\\nX_test_seq = pad_sequences(tokenizer.texts_to_sequences(X_test), maxlen=max_length, padding=\"post\")\\n\\n# ✅ Step 5: Train Word2Vec Embeddings\\nsentences = [text.split() for text in X_train]\\nword2vec_model = gensim.models.Word2Vec(sentences, vector_size=300, window=5, min_count=1, workers=4)\\nword_vectors = word2vec_model.wv\\n\\n# ✅ Step 6: Create Embedding Matrix\\nembedding_dim = 300  # Word2Vec vector size\\nword_index = tokenizer.word_index\\nembedding_matrix = np.zeros((len(word_index) + 1, embedding_dim))\\n\\nfor word, i in word_index.items():\\n    if word in word_vectors:\\n        embedding_matrix[i] = word_vectors[word]\\n    else:\\n        embedding_matrix[i] = np.random.normal(size=(embedding_dim,))\\n\\n# ✅ Step 7: Compute Class Weights for Imbalanced Data\\nclass_weights = compute_class_weight(\\n    class_weight=\"balanced\",\\n    classes=np.unique(y_train),\\n    y=y_train\\n)\\nclass_weights = dict(enumerate(class_weights))\\n\\n# Convert labels to categorical\\nnum_classes = len(label_encoder.classes_)\\ny_train_cat = tf.keras.utils.to_categorical(y_train, num_classes)\\ny_val_cat = tf.keras.utils.to_categorical(y_val, num_classes)\\ny_test_cat = tf.keras.utils.to_categorical(y_test, num_classes)\\n\\n# ✅ Step 8: Build Word2Vec + LSTM Model\\nmodel = Sequential([\\n    Embedding(input_dim=len(word_index) + 1,\\n              output_dim=embedding_dim,\\n              weights=[embedding_matrix],\\n              input_length=max_length,\\n              trainable=False),  # Use pre-trained embeddings\\n    Bidirectional(LSTM(128, return_sequences=False)),\\n    Dropout(0.3),\\n    Dense(64, activation=\"relu\"),\\n    Dropout(0.3),\\n    Dense(num_classes, activation=\"softmax\")\\n])\\n\\n# ✅ Step 9: Compile Model\\nmodel.compile(loss=\"categorical_crossentropy\", optimizer=Adam(learning_rate=2e-4), metrics=[\"accuracy\"])\\n\\n# ✅ Step 10: Train Model with Class Weights\\nhistory = model.fit(\\n    X_train_seq, y_train_cat,\\n    validation_data=(X_val_seq, y_val_cat),\\n    epochs=10, batch_size=32,\\n    class_weight=class_weights\\n)\\n\\n# ✅ Step 11: Evaluate Model\\nloss, accuracy = model.evaluate(X_test_seq, y_test_cat)\\nprint(f\"🔥 Test Accuracy: {accuracy:.4f}\")\\n\\n# ✅ Step 12: Save Model & Tokenizer\\nmodel.save(\"word2vec_lstm_model.h5\")\\nimport pickle\\nwith open(\"tokenizer.pkl\", \"wb\") as f:\\n    pickle.dump(tokenizer, f)\\n\\n# ✅ Step 13: Prediction Function\\ndef predict_emotion(text):\\n    seq = pad_sequences(tokenizer.texts_to_sequences([text]), maxlen=max_length, padding=\"post\")\\n    preds = model.predict(seq)\\n    emotion = label_encoder.inverse_transform([preds.argmax()])[0]\\n    return emotion\\n\\n# Test Prediction\\nsample_text = \"I\\'m feeling really happy today!\"\\npredicted_emotion = predict_emotion(sample_text)\\nprint(f\"Predicted Emotion: {predicted_emotion}\")'"
            ],
            "application/vnd.google.colaboratory.intrinsic+json": {
              "type": "string"
            }
          },
          "metadata": {},
          "execution_count": 6
        }
      ],
      "source": [
        "'''import pandas as pd\n",
        "import numpy as np\n",
        "import tensorflow as tf\n",
        "import gensim\n",
        "from tensorflow.keras.preprocessing.text import Tokenizer\n",
        "from tensorflow.keras.preprocessing.sequence import pad_sequences\n",
        "from tensorflow.keras.models import Sequential\n",
        "from tensorflow.keras.layers import Embedding, LSTM, Dense, Dropout, Bidirectional\n",
        "from tensorflow.keras.optimizers import Adam\n",
        "from sklearn.utils.class_weight import compute_class_weight\n",
        "from sklearn.preprocessing import LabelEncoder\n",
        "\n",
        "\n",
        "# ✅ Step 2: Encode Sentiment Labels\n",
        "label_encoder = LabelEncoder()\n",
        "train_df[\"label\"] = label_encoder.fit_transform(train_df[\"label\"])\n",
        "val_df[\"label\"] = label_encoder.transform(val_df[\"label\"])\n",
        "test_df[\"label\"] = label_encoder.transform(test_df[\"label\"])\n",
        "\n",
        "# ✅ Step 3: Prepare Text Data\n",
        "X_train, y_train = train_df[\"text\"].astype(str).tolist(), train_df[\"label\"]\n",
        "X_val, y_val = val_df[\"text\"].astype(str).tolist(), val_df[\"label\"]\n",
        "X_test, y_test = test_df[\"text\"].astype(str).tolist(), test_df[\"label\"]\n",
        "\n",
        "# ✅ Step 4: Tokenize Text\n",
        "max_vocab_size = 10000  # Maximum words to keep\n",
        "max_length = 100  # Max sequence length\n",
        "\n",
        "tokenizer = Tokenizer(num_words=max_vocab_size, oov_token=\"<OOV>\")\n",
        "tokenizer.fit_on_texts(X_train)\n",
        "\n",
        "# Convert text to sequences\n",
        "X_train_seq = pad_sequences(tokenizer.texts_to_sequences(X_train), maxlen=max_length, padding=\"post\")\n",
        "X_val_seq = pad_sequences(tokenizer.texts_to_sequences(X_val), maxlen=max_length, padding=\"post\")\n",
        "X_test_seq = pad_sequences(tokenizer.texts_to_sequences(X_test), maxlen=max_length, padding=\"post\")\n",
        "\n",
        "# ✅ Step 5: Train Word2Vec Embeddings\n",
        "sentences = [text.split() for text in X_train]\n",
        "word2vec_model = gensim.models.Word2Vec(sentences, vector_size=300, window=5, min_count=1, workers=4)\n",
        "word_vectors = word2vec_model.wv\n",
        "\n",
        "# ✅ Step 6: Create Embedding Matrix\n",
        "embedding_dim = 300  # Word2Vec vector size\n",
        "word_index = tokenizer.word_index\n",
        "embedding_matrix = np.zeros((len(word_index) + 1, embedding_dim))\n",
        "\n",
        "for word, i in word_index.items():\n",
        "    if word in word_vectors:\n",
        "        embedding_matrix[i] = word_vectors[word]\n",
        "    else:\n",
        "        embedding_matrix[i] = np.random.normal(size=(embedding_dim,))\n",
        "\n",
        "# ✅ Step 7: Compute Class Weights for Imbalanced Data\n",
        "class_weights = compute_class_weight(\n",
        "    class_weight=\"balanced\",\n",
        "    classes=np.unique(y_train),\n",
        "    y=y_train\n",
        ")\n",
        "class_weights = dict(enumerate(class_weights))\n",
        "\n",
        "# Convert labels to categorical\n",
        "num_classes = len(label_encoder.classes_)\n",
        "y_train_cat = tf.keras.utils.to_categorical(y_train, num_classes)\n",
        "y_val_cat = tf.keras.utils.to_categorical(y_val, num_classes)\n",
        "y_test_cat = tf.keras.utils.to_categorical(y_test, num_classes)\n",
        "\n",
        "# ✅ Step 8: Build Word2Vec + LSTM Model\n",
        "model = Sequential([\n",
        "    Embedding(input_dim=len(word_index) + 1,\n",
        "              output_dim=embedding_dim,\n",
        "              weights=[embedding_matrix],\n",
        "              input_length=max_length,\n",
        "              trainable=False),  # Use pre-trained embeddings\n",
        "    Bidirectional(LSTM(128, return_sequences=False)),\n",
        "    Dropout(0.3),\n",
        "    Dense(64, activation=\"relu\"),\n",
        "    Dropout(0.3),\n",
        "    Dense(num_classes, activation=\"softmax\")\n",
        "])\n",
        "\n",
        "# ✅ Step 9: Compile Model\n",
        "model.compile(loss=\"categorical_crossentropy\", optimizer=Adam(learning_rate=2e-4), metrics=[\"accuracy\"])\n",
        "\n",
        "# ✅ Step 10: Train Model with Class Weights\n",
        "history = model.fit(\n",
        "    X_train_seq, y_train_cat,\n",
        "    validation_data=(X_val_seq, y_val_cat),\n",
        "    epochs=10, batch_size=32,\n",
        "    class_weight=class_weights\n",
        ")\n",
        "\n",
        "# ✅ Step 11: Evaluate Model\n",
        "loss, accuracy = model.evaluate(X_test_seq, y_test_cat)\n",
        "print(f\"🔥 Test Accuracy: {accuracy:.4f}\")\n",
        "\n",
        "# ✅ Step 12: Save Model & Tokenizer\n",
        "model.save(\"word2vec_lstm_model.h5\")\n",
        "import pickle\n",
        "with open(\"tokenizer.pkl\", \"wb\") as f:\n",
        "    pickle.dump(tokenizer, f)\n",
        "\n",
        "# ✅ Step 13: Prediction Function\n",
        "def predict_emotion(text):\n",
        "    seq = pad_sequences(tokenizer.texts_to_sequences([text]), maxlen=max_length, padding=\"post\")\n",
        "    preds = model.predict(seq)\n",
        "    emotion = label_encoder.inverse_transform([preds.argmax()])[0]\n",
        "    return emotion\n",
        "\n",
        "# Test Prediction\n",
        "sample_text = \"I'm feeling really happy today!\"\n",
        "predicted_emotion = predict_emotion(sample_text)\n",
        "print(f\"Predicted Emotion: {predicted_emotion}\")'''\n"
      ]
    },
    {
      "cell_type": "code",
      "execution_count": null,
      "metadata": {
        "colab": {
          "base_uri": "https://localhost:8080/"
        },
        "id": "nJuxukTg-n1d",
        "outputId": "03493ad5-27e6-4cb7-eb23-befc32371a89"
      },
      "outputs": [
        {
          "output_type": "stream",
          "name": "stdout",
          "text": [
            "Found existing installation: numpy 1.26.4\n",
            "Uninstalling numpy-1.26.4:\n",
            "  Successfully uninstalled numpy-1.26.4\n",
            "Found existing installation: gensim 4.3.3\n",
            "Uninstalling gensim-4.3.3:\n",
            "  Successfully uninstalled gensim-4.3.3\n",
            "Collecting numpy\n",
            "  Using cached numpy-2.2.4-cp311-cp311-manylinux_2_17_x86_64.manylinux2014_x86_64.whl.metadata (62 kB)\n",
            "Collecting gensim\n",
            "  Using cached gensim-4.3.3-cp311-cp311-manylinux_2_17_x86_64.manylinux2014_x86_64.whl.metadata (8.1 kB)\n",
            "Collecting numpy\n",
            "  Using cached numpy-1.26.4-cp311-cp311-manylinux_2_17_x86_64.manylinux2014_x86_64.whl.metadata (61 kB)\n",
            "Requirement already satisfied: scipy<1.14.0,>=1.7.0 in /usr/local/lib/python3.11/dist-packages (from gensim) (1.13.1)\n",
            "Requirement already satisfied: smart-open>=1.8.1 in /usr/local/lib/python3.11/dist-packages (from gensim) (7.1.0)\n",
            "Requirement already satisfied: wrapt in /usr/local/lib/python3.11/dist-packages (from smart-open>=1.8.1->gensim) (1.17.2)\n",
            "Using cached gensim-4.3.3-cp311-cp311-manylinux_2_17_x86_64.manylinux2014_x86_64.whl (26.7 MB)\n",
            "Using cached numpy-1.26.4-cp311-cp311-manylinux_2_17_x86_64.manylinux2014_x86_64.whl (18.3 MB)\n",
            "Installing collected packages: numpy, gensim\n",
            "\u001b[31mERROR: pip's dependency resolver does not currently take into account all the packages that are installed. This behaviour is the source of the following dependency conflicts.\n",
            "tensorflow-text 2.18.1 requires tensorflow<2.19,>=2.18.0, but you have tensorflow 2.19.0 which is incompatible.\n",
            "tf-keras 2.18.0 requires tensorflow<2.19,>=2.18, but you have tensorflow 2.19.0 which is incompatible.\n",
            "tensorflow-decision-forests 1.11.0 requires tensorflow==2.18.0, but you have tensorflow 2.19.0 which is incompatible.\n",
            "thinc 8.3.6 requires numpy<3.0.0,>=2.0.0, but you have numpy 1.26.4 which is incompatible.\u001b[0m\u001b[31m\n",
            "\u001b[0mSuccessfully installed gensim-4.3.3 numpy-1.26.4\n"
          ]
        }
      ],
      "source": [
        "!pip uninstall numpy gensim -y\n",
        "!pip install --upgrade numpy gensim\n"
      ]
    },
    {
      "cell_type": "markdown",
      "metadata": {
        "id": "zwUQqZq0oKA-"
      },
      "source": [
        "Word2Vec+BILSTM++ATTENTION MECHANISM+HYPERPARAMETER TUNING"
      ]
    },
    {
      "cell_type": "code",
      "execution_count": null,
      "metadata": {
        "colab": {
          "base_uri": "https://localhost:8080/"
        },
        "id": "gKiH-BQntvEf",
        "outputId": "0a389869-9a5d-4019-8f60-e6db02053ca6"
      },
      "outputs": [
        {
          "output_type": "stream",
          "name": "stderr",
          "text": [
            "/usr/local/lib/python3.11/dist-packages/jaxlib/plugin_support.py:71: RuntimeWarning: JAX plugin jax_cuda12_plugin version 0.5.1 is installed, but it is not compatible with the installed jaxlib version 0.5.3, so it will not be used.\n",
            "  warnings.warn(\n"
          ]
        },
        {
          "output_type": "stream",
          "name": "stdout",
          "text": [
            "[==================================================] 100.0% 1662.8/1662.8MB downloaded\n"
          ]
        },
        {
          "output_type": "stream",
          "name": "stderr",
          "text": [
            "/usr/local/lib/python3.11/dist-packages/keras/src/layers/core/embedding.py:90: UserWarning: Argument `input_length` is deprecated. Just remove it.\n",
            "  warnings.warn(\n"
          ]
        },
        {
          "output_type": "stream",
          "name": "stdout",
          "text": [
            "Epoch 1/30\n",
            "\u001b[1m250/250\u001b[0m \u001b[32m━━━━━━━━━━━━━━━━━━━━\u001b[0m\u001b[37m\u001b[0m \u001b[1m27s\u001b[0m 49ms/step - accuracy: 0.1799 - loss: 1.8051 - val_accuracy: 0.3170 - val_loss: 1.6681\n",
            "Epoch 2/30\n",
            "\u001b[1m250/250\u001b[0m \u001b[32m━━━━━━━━━━━━━━━━━━━━\u001b[0m\u001b[37m\u001b[0m \u001b[1m12s\u001b[0m 43ms/step - accuracy: 0.3150 - loss: 1.6050 - val_accuracy: 0.3520 - val_loss: 1.4743\n",
            "Epoch 3/30\n",
            "\u001b[1m250/250\u001b[0m \u001b[32m━━━━━━━━━━━━━━━━━━━━\u001b[0m\u001b[37m\u001b[0m \u001b[1m9s\u001b[0m 36ms/step - accuracy: 0.3646 - loss: 1.3835 - val_accuracy: 0.4730 - val_loss: 1.2695\n",
            "Epoch 4/30\n",
            "\u001b[1m250/250\u001b[0m \u001b[32m━━━━━━━━━━━━━━━━━━━━\u001b[0m\u001b[37m\u001b[0m \u001b[1m8s\u001b[0m 33ms/step - accuracy: 0.4436 - loss: 1.1525 - val_accuracy: 0.5550 - val_loss: 1.0970\n",
            "Epoch 5/30\n",
            "\u001b[1m250/250\u001b[0m \u001b[32m━━━━━━━━━━━━━━━━━━━━\u001b[0m\u001b[37m\u001b[0m \u001b[1m10s\u001b[0m 34ms/step - accuracy: 0.5448 - loss: 0.9820 - val_accuracy: 0.6420 - val_loss: 0.9743\n",
            "Epoch 6/30\n",
            "\u001b[1m250/250\u001b[0m \u001b[32m━━━━━━━━━━━━━━━━━━━━\u001b[0m\u001b[37m\u001b[0m \u001b[1m10s\u001b[0m 33ms/step - accuracy: 0.6059 - loss: 0.8525 - val_accuracy: 0.6620 - val_loss: 0.8922\n",
            "Epoch 7/30\n",
            "\u001b[1m250/250\u001b[0m \u001b[32m━━━━━━━━━━━━━━━━━━━━\u001b[0m\u001b[37m\u001b[0m \u001b[1m10s\u001b[0m 33ms/step - accuracy: 0.6598 - loss: 0.7618 - val_accuracy: 0.6765 - val_loss: 0.8481\n",
            "Epoch 8/30\n",
            "\u001b[1m250/250\u001b[0m \u001b[32m━━━━━━━━━━━━━━━━━━━━\u001b[0m\u001b[37m\u001b[0m \u001b[1m8s\u001b[0m 34ms/step - accuracy: 0.7021 - loss: 0.6856 - val_accuracy: 0.7050 - val_loss: 0.7931\n",
            "Epoch 9/30\n",
            "\u001b[1m250/250\u001b[0m \u001b[32m━━━━━━━━━━━━━━━━━━━━\u001b[0m\u001b[37m\u001b[0m \u001b[1m10s\u001b[0m 34ms/step - accuracy: 0.7311 - loss: 0.6039 - val_accuracy: 0.7255 - val_loss: 0.7287\n",
            "Epoch 10/30\n",
            "\u001b[1m250/250\u001b[0m \u001b[32m━━━━━━━━━━━━━━━━━━━━\u001b[0m\u001b[37m\u001b[0m \u001b[1m8s\u001b[0m 34ms/step - accuracy: 0.7589 - loss: 0.5487 - val_accuracy: 0.7420 - val_loss: 0.7157\n",
            "Epoch 11/30\n",
            "\u001b[1m250/250\u001b[0m \u001b[32m━━━━━━━━━━━━━━━━━━━━\u001b[0m\u001b[37m\u001b[0m \u001b[1m9s\u001b[0m 35ms/step - accuracy: 0.7770 - loss: 0.5155 - val_accuracy: 0.7835 - val_loss: 0.5981\n",
            "Epoch 12/30\n",
            "\u001b[1m250/250\u001b[0m \u001b[32m━━━━━━━━━━━━━━━━━━━━\u001b[0m\u001b[37m\u001b[0m \u001b[1m10s\u001b[0m 34ms/step - accuracy: 0.7952 - loss: 0.4792 - val_accuracy: 0.7915 - val_loss: 0.5803\n",
            "Epoch 13/30\n",
            "\u001b[1m250/250\u001b[0m \u001b[32m━━━━━━━━━━━━━━━━━━━━\u001b[0m\u001b[37m\u001b[0m \u001b[1m10s\u001b[0m 35ms/step - accuracy: 0.8188 - loss: 0.4225 - val_accuracy: 0.7875 - val_loss: 0.6031\n",
            "Epoch 14/30\n",
            "\u001b[1m250/250\u001b[0m \u001b[32m━━━━━━━━━━━━━━━━━━━━\u001b[0m\u001b[37m\u001b[0m \u001b[1m10s\u001b[0m 34ms/step - accuracy: 0.8266 - loss: 0.3995 - val_accuracy: 0.7950 - val_loss: 0.5803\n",
            "Epoch 15/30\n",
            "\u001b[1m250/250\u001b[0m \u001b[32m━━━━━━━━━━━━━━━━━━━━\u001b[0m\u001b[37m\u001b[0m \u001b[1m10s\u001b[0m 34ms/step - accuracy: 0.8327 - loss: 0.3782 - val_accuracy: 0.8055 - val_loss: 0.5350\n",
            "Epoch 16/30\n",
            "\u001b[1m250/250\u001b[0m \u001b[32m━━━━━━━━━━━━━━━━━━━━\u001b[0m\u001b[37m\u001b[0m \u001b[1m10s\u001b[0m 34ms/step - accuracy: 0.8463 - loss: 0.3471 - val_accuracy: 0.8190 - val_loss: 0.5048\n",
            "Epoch 17/30\n",
            "\u001b[1m250/250\u001b[0m \u001b[32m━━━━━━━━━━━━━━━━━━━━\u001b[0m\u001b[37m\u001b[0m \u001b[1m9s\u001b[0m 34ms/step - accuracy: 0.8564 - loss: 0.3235 - val_accuracy: 0.8060 - val_loss: 0.5309\n",
            "Epoch 18/30\n",
            "\u001b[1m250/250\u001b[0m \u001b[32m━━━━━━━━━━━━━━━━━━━━\u001b[0m\u001b[37m\u001b[0m \u001b[1m11s\u001b[0m 35ms/step - accuracy: 0.8648 - loss: 0.3037 - val_accuracy: 0.8155 - val_loss: 0.4844\n",
            "Epoch 19/30\n",
            "\u001b[1m250/250\u001b[0m \u001b[32m━━━━━━━━━━━━━━━━━━━━\u001b[0m\u001b[37m\u001b[0m \u001b[1m9s\u001b[0m 34ms/step - accuracy: 0.8778 - loss: 0.2736 - val_accuracy: 0.8310 - val_loss: 0.4626\n",
            "Epoch 20/30\n",
            "\u001b[1m250/250\u001b[0m \u001b[32m━━━━━━━━━━━━━━━━━━━━\u001b[0m\u001b[37m\u001b[0m \u001b[1m8s\u001b[0m 33ms/step - accuracy: 0.8869 - loss: 0.2501 - val_accuracy: 0.8350 - val_loss: 0.4654\n",
            "Epoch 21/30\n",
            "\u001b[1m250/250\u001b[0m \u001b[32m━━━━━━━━━━━━━━━━━━━━\u001b[0m\u001b[37m\u001b[0m \u001b[1m10s\u001b[0m 34ms/step - accuracy: 0.8874 - loss: 0.2446 - val_accuracy: 0.8175 - val_loss: 0.5305\n",
            "Epoch 22/30\n",
            "\u001b[1m250/250\u001b[0m \u001b[32m━━━━━━━━━━━━━━━━━━━━\u001b[0m\u001b[37m\u001b[0m \u001b[1m9s\u001b[0m 35ms/step - accuracy: 0.8893 - loss: 0.2398 - val_accuracy: 0.8335 - val_loss: 0.4744\n",
            "Epoch 23/30\n",
            "\u001b[1m250/250\u001b[0m \u001b[32m━━━━━━━━━━━━━━━━━━━━\u001b[0m\u001b[37m\u001b[0m \u001b[1m9s\u001b[0m 34ms/step - accuracy: 0.8994 - loss: 0.2161 - val_accuracy: 0.8540 - val_loss: 0.4291\n",
            "Epoch 24/30\n",
            "\u001b[1m250/250\u001b[0m \u001b[32m━━━━━━━━━━━━━━━━━━━━\u001b[0m\u001b[37m\u001b[0m \u001b[1m10s\u001b[0m 34ms/step - accuracy: 0.9049 - loss: 0.2187 - val_accuracy: 0.8450 - val_loss: 0.4370\n",
            "Epoch 25/30\n",
            "\u001b[1m250/250\u001b[0m \u001b[32m━━━━━━━━━━━━━━━━━━━━\u001b[0m\u001b[37m\u001b[0m \u001b[1m8s\u001b[0m 34ms/step - accuracy: 0.9117 - loss: 0.1902 - val_accuracy: 0.8555 - val_loss: 0.4265\n",
            "Epoch 26/30\n",
            "\u001b[1m250/250\u001b[0m \u001b[32m━━━━━━━━━━━━━━━━━━━━\u001b[0m\u001b[37m\u001b[0m \u001b[1m10s\u001b[0m 34ms/step - accuracy: 0.9152 - loss: 0.1839 - val_accuracy: 0.8365 - val_loss: 0.4730\n",
            "Epoch 27/30\n",
            "\u001b[1m250/250\u001b[0m \u001b[32m━━━━━━━━━━━━━━━━━━━━\u001b[0m\u001b[37m\u001b[0m \u001b[1m9s\u001b[0m 34ms/step - accuracy: 0.9181 - loss: 0.1757 - val_accuracy: 0.8385 - val_loss: 0.4633\n",
            "Epoch 28/30\n",
            "\u001b[1m250/250\u001b[0m \u001b[32m━━━━━━━━━━━━━━━━━━━━\u001b[0m\u001b[37m\u001b[0m \u001b[1m10s\u001b[0m 34ms/step - accuracy: 0.9257 - loss: 0.1657 - val_accuracy: 0.8615 - val_loss: 0.4276\n",
            "Epoch 29/30\n",
            "\u001b[1m250/250\u001b[0m \u001b[32m━━━━━━━━━━━━━━━━━━━━\u001b[0m\u001b[37m\u001b[0m \u001b[1m9s\u001b[0m 34ms/step - accuracy: 0.9338 - loss: 0.1491 - val_accuracy: 0.8630 - val_loss: 0.4332\n",
            "Epoch 30/30\n",
            "\u001b[1m250/250\u001b[0m \u001b[32m━━━━━━━━━━━━━━━━━━━━\u001b[0m\u001b[37m\u001b[0m \u001b[1m10s\u001b[0m 34ms/step - accuracy: 0.9317 - loss: 0.1487 - val_accuracy: 0.8555 - val_loss: 0.4472\n",
            "\u001b[1m63/63\u001b[0m \u001b[32m━━━━━━━━━━━━━━━━━━━━\u001b[0m\u001b[37m\u001b[0m \u001b[1m1s\u001b[0m 11ms/step - accuracy: 0.8617 - loss: 0.4631\n"
          ]
        },
        {
          "output_type": "stream",
          "name": "stderr",
          "text": [
            "WARNING:absl:You are saving your model as an HDF5 file via `model.save()` or `keras.saving.save_model(model)`. This file format is considered legacy. We recommend using instead the native Keras format, e.g. `model.save('my_model.keras')` or `keras.saving.save_model(model, 'my_model.keras')`. \n"
          ]
        },
        {
          "output_type": "stream",
          "name": "stdout",
          "text": [
            " Test Accuracy: 0.8530\n",
            "\u001b[1m1/1\u001b[0m \u001b[32m━━━━━━━━━━━━━━━━━━━━\u001b[0m\u001b[37m\u001b[0m \u001b[1m0s\u001b[0m 482ms/step\n",
            "Predicted Emotion: 1\n"
          ]
        }
      ],
      "source": [
        "import pandas as pd\n",
        "import numpy as np\n",
        "import tensorflow as tf\n",
        "import gensim.downloader as api\n",
        "from tensorflow.keras.preprocessing.text import Tokenizer\n",
        "from tensorflow.keras.preprocessing.sequence import pad_sequences\n",
        "from tensorflow.keras.models import Model\n",
        "from tensorflow.keras.layers import Embedding, LSTM, Dense, Dropout, Bidirectional, Conv1D, GlobalMaxPooling1D, Input, Attention\n",
        "from tensorflow.keras.optimizers import Adam\n",
        "from sklearn.utils.class_weight import compute_class_weight\n",
        "from sklearn.preprocessing import LabelEncoder\n",
        "\n",
        "# Load dataset (ensure train_df, val_df, test_df are loaded)\n",
        "\n",
        "# Encode labels\n",
        "label_encoder = LabelEncoder()\n",
        "train_df[\"label\"] = label_encoder.fit_transform(train_df[\"label\"])\n",
        "val_df[\"label\"] = label_encoder.transform(val_df[\"label\"])\n",
        "test_df[\"label\"] = label_encoder.transform(test_df[\"label\"])\n",
        "\n",
        "# Prepare text data\n",
        "X_train, y_train = train_df[\"text\"].astype(str).tolist(), train_df[\"label\"]\n",
        "X_val, y_val = val_df[\"text\"].astype(str).tolist(), val_df[\"label\"]\n",
        "X_test, y_test = test_df[\"text\"].astype(str).tolist(), test_df[\"label\"]\n",
        "\n",
        "# Tokenization\n",
        "max_vocab_size = 15000\n",
        "max_length = 120\n",
        "tokenizer = Tokenizer(num_words=max_vocab_size, oov_token=\"<OOV>\")\n",
        "tokenizer.fit_on_texts(X_train)\n",
        "X_train_seq = pad_sequences(tokenizer.texts_to_sequences(X_train), maxlen=max_length, padding=\"post\")\n",
        "X_val_seq = pad_sequences(tokenizer.texts_to_sequences(X_val), maxlen=max_length, padding=\"post\")\n",
        "X_test_seq = pad_sequences(tokenizer.texts_to_sequences(X_test), maxlen=max_length, padding=\"post\")\n",
        "\n",
        "# Load Pretrained Word2Vec\n",
        "word_vectors = api.load(\"word2vec-google-news-300\")\n",
        "embedding_dim = 300\n",
        "word_index = tokenizer.word_index\n",
        "embedding_matrix = np.zeros((len(word_index) + 1, embedding_dim))\n",
        "for word, i in word_index.items():\n",
        "    if word in word_vectors:\n",
        "        embedding_matrix[i] = word_vectors[word]\n",
        "    else:\n",
        "        embedding_matrix[i] = np.random.normal(size=(embedding_dim,))\n",
        "\n",
        "# Compute class weights\n",
        "class_weights = compute_class_weight(\n",
        "    class_weight=\"balanced\", classes=np.unique(y_train), y=y_train\n",
        ")\n",
        "class_weights = dict(enumerate(class_weights))\n",
        "\n",
        "# Convert labels to categorical\n",
        "num_classes = len(label_encoder.classes_)\n",
        "y_train_cat = tf.keras.utils.to_categorical(y_train, num_classes)\n",
        "y_val_cat = tf.keras.utils.to_categorical(y_val, num_classes)\n",
        "y_test_cat = tf.keras.utils.to_categorical(y_test, num_classes)\n",
        "\n",
        "# Define Improved Model (Word2Vec + Stacked BiLSTM + CNN + Attention)\n",
        "def build_model():\n",
        "    inputs = Input(shape=(max_length,))\n",
        "    embedding = Embedding(input_dim=len(word_index) + 1, output_dim=embedding_dim,\n",
        "                          weights=[embedding_matrix], input_length=max_length,\n",
        "                          trainable=False)(inputs)\n",
        "    lstm = Bidirectional(LSTM(128, return_sequences=True))(embedding)\n",
        "    lstm = Bidirectional(LSTM(64, return_sequences=True))(lstm)  # Additional LSTM layer\n",
        "    cnn = Conv1D(filters=64, kernel_size=3, activation='relu')(lstm)\n",
        "    cnn = GlobalMaxPooling1D()(cnn)\n",
        "    query = Dense(128, activation=\"tanh\")(lstm)  # Adjusted Attention\n",
        "    attention = Attention()([query, lstm])\n",
        "    attention = GlobalMaxPooling1D()(attention)\n",
        "    merged = tf.keras.layers.Concatenate()([cnn, attention])\n",
        "    dense = Dense(128, activation=\"relu\")(merged)\n",
        "    dropout = Dropout(0.3)(dense)\n",
        "    output = Dense(num_classes, activation=\"softmax\")(dropout)\n",
        "    return Model(inputs, output)\n",
        "\n",
        "# Compile and Train Model\n",
        "model = build_model()\n",
        "model.compile(loss=\"categorical_crossentropy\", optimizer=Adam(learning_rate=1e-4), metrics=[\"accuracy\"])\n",
        "model.fit(X_train_seq, y_train_cat, validation_data=(X_val_seq, y_val_cat),\n",
        "          epochs=30, batch_size=64, class_weight=class_weights)\n",
        "\n",
        "# Evaluate\n",
        "loss, accuracy = model.evaluate(X_test_seq, y_test_cat)\n",
        "print(f\" Test Accuracy: {accuracy:.4f}\")\n",
        "\n",
        "# Save Model\n",
        "model.save(\"optimized_sentiment_model.h5\")\n",
        "import pickle\n",
        "with open(\"tokenizer.pkl\", \"wb\") as f:\n",
        "    pickle.dump(tokenizer, f)\n",
        "\n",
        "def predict_emotion(text):\n",
        "    seq = pad_sequences(tokenizer.texts_to_sequences([text]), maxlen=max_length, padding=\"post\")\n",
        "    preds = model.predict(seq)\n",
        "    return label_encoder.inverse_transform([preds.argmax()])[0]\n",
        "\n",
        "sample_text = \"I'm feeling really happy today!\"\n",
        "print(f\"Predicted Emotion: {predict_emotion(sample_text)}\")\n"
      ]
    },
    {
      "cell_type": "code",
      "execution_count": null,
      "metadata": {
        "colab": {
          "base_uri": "https://localhost:8080/",
          "height": 836
        },
        "id": "XKfuscLsn7ZV",
        "outputId": "588f059c-ecbe-496d-e251-6c1b659065a7"
      },
      "outputs": [
        {
          "output_type": "stream",
          "name": "stdout",
          "text": [
            "\u001b[1m63/63\u001b[0m \u001b[32m━━━━━━━━━━━━━━━━━━━━\u001b[0m\u001b[37m\u001b[0m \u001b[1m1s\u001b[0m 12ms/step\n",
            "Accuracy: 0.8530\n",
            "Classification Report:\n",
            "               precision    recall  f1-score   support\n",
            "\n",
            "           0       0.93      0.85      0.89       581\n",
            "           1       0.90      0.83      0.87       695\n",
            "           2       0.61      0.86      0.71       159\n",
            "           3       0.85      0.90      0.87       275\n",
            "           4       0.86      0.83      0.85       224\n",
            "           5       0.65      0.92      0.76        66\n",
            "\n",
            "    accuracy                           0.85      2000\n",
            "   macro avg       0.80      0.87      0.83      2000\n",
            "weighted avg       0.87      0.85      0.86      2000\n",
            "\n"
          ]
        },
        {
          "output_type": "display_data",
          "data": {
            "text/plain": [
              "<Figure size 640x480 with 2 Axes>"
            ],
            "image/png": "[encoded data removed]"
          },
          "metadata": {}
        },
        {
          "output_type": "stream",
          "name": "stdout",
          "text": [
            "Type-1 Error (False Positive Rate): 0.0301\n",
            "Type-2 Error (False Negative Rate): 0.1332\n",
            "Z-Test Score: 25.7660, P-Value: 0.0000\n",
            "T-Test Score: 2.5359, P-Value: 0.0113\n",
            "ANOVA F-Statistic: 6.4307, P-Value: 0.0113\n"
          ]
        }
      ],
      "source": [
        "from sklearn.metrics import accuracy_score, classification_report, confusion_matrix\n",
        "from scipy import stats\n",
        "import numpy as np\n",
        "import seaborn as sns\n",
        "import matplotlib.pyplot as plt\n",
        "\n",
        "# Predictions\n",
        "predictions = model.predict(X_test_seq)\n",
        "predicted_labels = np.argmax(predictions, axis=1)\n",
        "true_labels = np.argmax(y_test_cat, axis=1)\n",
        "\n",
        "#  Accuracy\n",
        "accuracy = accuracy_score(true_labels, predicted_labels)\n",
        "print(f\"Accuracy: {accuracy:.4f}\")\n",
        "\n",
        "#  Precision, Recall, F1-score\n",
        "report = classification_report(true_labels, predicted_labels)\n",
        "print(\"Classification Report:\\n\", report)\n",
        "\n",
        "# Confusion Matrix\n",
        "conf_matrix = confusion_matrix(true_labels, predicted_labels)\n",
        "sns.heatmap(conf_matrix, annot=True, fmt='d', cmap='Blues')\n",
        "plt.xlabel(\"Predicted\")\n",
        "plt.ylabel(\"Actual\")\n",
        "plt.title(\"Confusion Matrix\")\n",
        "plt.show()\n",
        "\n",
        "# Type-1 and Type-2 Errors\n",
        "FP = conf_matrix.sum(axis=0) - np.diag(conf_matrix)  # False Positives\n",
        "FN = conf_matrix.sum(axis=1) - np.diag(conf_matrix)  # False Negatives\n",
        "TP = np.diag(conf_matrix)  # True Positives\n",
        "TN = conf_matrix.sum() - (FP + FN + TP)  # True Negatives\n",
        "\n",
        "type_1_error = FP / (FP + TN)  # False Positive Rate\n",
        "type_2_error = FN / (FN + TP)  # False Negative Rate\n",
        "print(f\"Type-1 Error (False Positive Rate): {type_1_error.mean():.4f}\")\n",
        "print(f\"Type-2 Error (False Negative Rate): {type_2_error.mean():.4f}\")\n",
        "\n",
        "# Z-Test (Comparing Model Proportions)\n",
        "n1, n2 = len(true_labels), len(predicted_labels)\n",
        "p1, p2 = accuracy, 0.5  # Assuming baseline accuracy is 50%\n",
        "SE = np.sqrt((p1 * (1 - p1) / n1) + (p2 * (1 - p2) / n2))\n",
        "z_score = (p1 - p2) / SE\n",
        "p_value_z = 1 - stats.norm.cdf(z_score)\n",
        "print(f\"Z-Test Score: {z_score:.4f}, P-Value: {p_value_z:.4f}\")\n",
        "\n",
        "#  T-Test (Comparing Model Mean Performance)\n",
        "t_stat, p_value_t = stats.ttest_ind(predicted_labels, true_labels, equal_var=False)\n",
        "print(f\"T-Test Score: {t_stat:.4f}, P-Value: {p_value_t:.4f}\")\n",
        "\n",
        "#  ANOVA Test (Checking Variance Differences)\n",
        "F_stat, p_value_anova = stats.f_oneway(predicted_labels, true_labels)\n",
        "print(f\"ANOVA F-Statistic: {F_stat:.4f}, P-Value: {p_value_anova:.4f}\")"
      ]
    },
    {
      "cell_type": "code",
      "execution_count": null,
      "metadata": {
        "colab": {
          "base_uri": "https://localhost:8080/",
          "height": 564
        },
        "id": "NZu8KXEaesPu",
        "outputId": "ec09cdbb-ee72-4446-8f2c-53248e9dc9d3"
      },
      "outputs": [
        {
          "output_type": "display_data",
          "data": {
            "text/plain": [
              "<Figure size 800x600 with 1 Axes>"
            ],
            "image/png": "[encoded data removed]"
          },
          "metadata": {}
        }
      ],
      "source": [
        "import matplotlib.pyplot as plt\n",
        "from sklearn.metrics import roc_curve, auc\n",
        "\n",
        "# Plot ROC Curve for each class\n",
        "plt.figure(figsize=(8, 6))\n",
        "for i in range(num_classes):\n",
        "    fpr, tpr, _ = roc_curve(y_test_cat[:, i], predictions[:, i])\n",
        "    roc_auc = auc(fpr, tpr)\n",
        "    plt.plot(fpr, tpr, label=f\"Class {i} (AUC = {roc_auc:.2f})\")\n",
        "\n",
        "# Plot random classifier line\n",
        "plt.plot([0, 1], [0, 1], 'k--')\n",
        "\n",
        "# Labels and Title\n",
        "plt.xlabel(\"False Positive Rate\")\n",
        "plt.ylabel(\"True Positive Rate\")\n",
        "plt.title(\"ROC Curve\")\n",
        "plt.legend()\n",
        "plt.show()\n"
      ]
    },
    {
      "cell_type": "code",
      "source": [
        "# Plot Precision-Recall Curves\n",
        "plt.figure(figsize=(7, 6))\n",
        "\n",
        "for i, color in zip(range(num_classes), colors):\n",
        "    precision, recall, _ = precision_recall_curve(y_test_bin[:, i], y_pred_prob[:, i])\n",
        "    plt.plot(recall, precision, color=color, lw=2, label=f\"Class {i}\")\n",
        "\n",
        "plt.xlabel(\"Recall\")\n",
        "plt.ylabel(\"Precision\")\n",
        "plt.title(\"Precision-Recall Curve\")\n",
        "plt.legend(loc=\"upper right\")\n",
        "plt.show()\n"
      ],
      "metadata": {
        "colab": {
          "base_uri": "https://localhost:8080/",
          "height": 564
        },
        "id": "0-Ppyh-XQ0Ip",
        "outputId": "84e7caa1-2a00-49e9-9c9c-f80a2b26ca86"
      },
      "execution_count": null,
      "outputs": [
        {
          "output_type": "display_data",
          "data": {
            "text/plain": [
              "<Figure size 700x600 with 1 Axes>"
            ],
            "image/png": "[encoded data removed]"
          },
          "metadata": {}
        }
      ]
    },
    {
      "cell_type": "code",
      "source": [],
      "metadata": {
        "id": "T2b1OrUrXB03"
      },
      "execution_count": null,
      "outputs": []
    }
  ],
  "metadata": {
    "accelerator": "GPU",
    "colab": {
      "gpuType": "T4",
      "provenance": [],
      "include_colab_link": true
    },
    "kernelspec": {
      "display_name": "Python 3",
      "name": "python3"
    },
    "language_info": {
      "name": "python"
    }
  },
  "nbformat": 4,
  "nbformat_minor": 0
}